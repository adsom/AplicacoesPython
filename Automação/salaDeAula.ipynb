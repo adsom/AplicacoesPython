{
 "cells": [
  {
   "cell_type": "code",
   "execution_count": 19,
   "id": "152d92f8",
   "metadata": {
    "scrolled": true
   },
   "outputs": [],
   "source": [
    "import pyautogui \n",
    "import pyperclip \n",
    "import time\n",
    "\n",
    "pyautogui.PAUSE = 1\n",
    "pyautogui.hotkey(\"ctrl\", \"t\")\n",
    "pyperclip.copy(\"https://meet.google.com/lookup/dhqyk3m4ew\")\n",
    "pyautogui.hotkey(\"ctrl\",\"v\")\n",
    "pyautogui.press(\"enter\")\n",
    "\n",
    "time.sleep(10)\n",
    "\n",
    "#Navegando pela tela do PC\n",
    "pyautogui.hotkey(\"ctrl\", \"d\") #desligando microfone\n",
    "pyautogui.hotkey(\"ctrl\", \"e\") #desligando camera\n",
    "time.sleep(60)\n",
    "#pedindo pra entra na sala de aula\n",
    "pyautogui.click(x=921, y=421)\n",
    "time.sleep(20)\n",
    "#Dando boa tarde para o professor \n",
    "pyautogui.click(x=1271, y=678) #Entrando no chat\n",
    "pyautogui.click(x=1053, y=611) \n",
    "pyautogui.write(\" Boa tarde professor\")\n",
    "pyautogui.click(x=1307, y=611)\n",
    "time.sleep(15)\n",
    "pyautogui.click(x=1317, y=121) # fechando chat\n",
    "time.sleep(40)\n",
    "\n",
    "# Após o fim da aula\n",
    "pyautogui.click(x=1271, y=678) #Entrando no chat\n",
    "pyautogui.click(x=1053, y=611) \n",
    "pyautogui.write(\"..\")\n",
    "pyautogui.click(x=1307, y=611)\n",
    "time.sleep(15)\n",
    "pyautogui.click(x=1317, y=121) # Fechando chat\n",
    "\n",
    "#Saindo da sala de aula\n",
    "pyautogui.click(x=781, y=678)"
   ]
  },
  {
   "cell_type": "code",
   "execution_count": 16,
   "id": "0aacebab",
   "metadata": {},
   "outputs": [
    {
     "data": {
      "text/plain": [
       "Point(x=440, y=150)"
      ]
     },
     "execution_count": 16,
     "metadata": {},
     "output_type": "execute_result"
    }
   ],
   "source": [
    "# Vamos usar uma função do pyautogui para localizar a posição das coisas que devemos cliclar, irei deixar ela bem no inicio\n",
    "time.sleep(5)\n",
    "pyautogui.position()"
   ]
  },
  {
   "cell_type": "code",
   "execution_count": null,
   "id": "0088ecb7",
   "metadata": {},
   "outputs": [],
   "source": []
  },
  {
   "cell_type": "code",
   "execution_count": 1,
   "id": "a432d109",
   "metadata": {},
   "outputs": [
    {
     "name": "stdout",
     "output_type": "stream",
     "text": [
      "Collecting pyautogui\n",
      "  Downloading PyAutoGUI-0.9.53.tar.gz (59 kB)\n",
      "Collecting pymsgbox\n",
      "  Downloading PyMsgBox-1.0.9.tar.gz (18 kB)\n",
      "  Installing build dependencies: started\n",
      "  Installing build dependencies: finished with status 'done'\n",
      "  Getting requirements to build wheel: started\n",
      "  Getting requirements to build wheel: finished with status 'done'\n",
      "    Preparing wheel metadata: started\n",
      "    Preparing wheel metadata: finished with status 'done'\n",
      "Collecting PyTweening>=1.0.1\n",
      "  Downloading pytweening-1.0.4.tar.gz (14 kB)\n",
      "Collecting pyscreeze>=0.1.21\n",
      "  Downloading PyScreeze-0.1.28.tar.gz (25 kB)\n",
      "  Installing build dependencies: started\n",
      "  Installing build dependencies: finished with status 'done'\n",
      "  Getting requirements to build wheel: started\n",
      "  Getting requirements to build wheel: finished with status 'done'\n",
      "    Preparing wheel metadata: started\n",
      "    Preparing wheel metadata: finished with status 'done'\n",
      "Collecting pygetwindow>=0.0.5\n",
      "  Downloading PyGetWindow-0.0.9.tar.gz (9.7 kB)\n",
      "Collecting mouseinfo\n",
      "  Downloading MouseInfo-0.1.3.tar.gz (10 kB)\n",
      "Collecting pyrect\n",
      "  Downloading PyRect-0.1.4.tar.gz (15 kB)\n",
      "Requirement already satisfied: Pillow>=6.2.1 in c:\\users\\adsom\\anaconda3\\lib\\site-packages (from pyscreeze>=0.1.21->pyautogui) (8.2.0)\n",
      "Collecting pyperclip\n",
      "  Downloading pyperclip-1.8.2.tar.gz (20 kB)\n",
      "Building wheels for collected packages: pyautogui, pygetwindow, pyscreeze, PyTweening, mouseinfo, pymsgbox, pyperclip, pyrect\n",
      "  Building wheel for pyautogui (setup.py): started\n",
      "  Building wheel for pyautogui (setup.py): finished with status 'done'\n",
      "  Created wheel for pyautogui: filename=PyAutoGUI-0.9.53-py3-none-any.whl size=36583 sha256=43cc2d145d3e6cdb199aa420c83483d2e152954b98f8886174c8f734438e045d\n",
      "  Stored in directory: c:\\users\\adsom\\appdata\\local\\pip\\cache\\wheels\\54\\04\\f7\\55704a9d374ed923785a4fdc0ef00151fa25306b3b93345532\n",
      "  Building wheel for pygetwindow (setup.py): started\n",
      "  Building wheel for pygetwindow (setup.py): finished with status 'done'\n",
      "  Created wheel for pygetwindow: filename=PyGetWindow-0.0.9-py3-none-any.whl size=11078 sha256=f7ed8917d36e07b106299d81509f677a25133e4a67b620fb675c796c88b94ce2\n",
      "  Stored in directory: c:\\users\\adsom\\appdata\\local\\pip\\cache\\wheels\\91\\e3\\04\\184bda98ec7f7d5f0ba1f372bcf7b3ba86325151ae1dd690fe\n",
      "  Building wheel for pyscreeze (PEP 517): started\n",
      "  Building wheel for pyscreeze (PEP 517): finished with status 'done'\n",
      "  Created wheel for pyscreeze: filename=PyScreeze-0.1.28-py3-none-any.whl size=13023 sha256=75f492fa576cb6d73ddd86e1ee4b900e37a25cfb1da3b4f40a71e23e9446e1e9\n",
      "  Stored in directory: c:\\users\\adsom\\appdata\\local\\pip\\cache\\wheels\\b1\\b0\\5c\\9fb5beb2d6c708479a670e92f4ab3b54523a15c9cd4a46e24e\n",
      "  Building wheel for PyTweening (setup.py): started\n",
      "  Building wheel for PyTweening (setup.py): finished with status 'done'\n",
      "  Created wheel for PyTweening: filename=pytweening-1.0.4-py3-none-any.whl size=5825 sha256=ff72480d5d2e34d3d1fa004ba1fd81d361cb5862f3f85e3a34f839314e9324fe\n",
      "  Stored in directory: c:\\users\\adsom\\appdata\\local\\pip\\cache\\wheels\\a2\\1b\\69\\dc477653ccc19228bf53af76c623e4e82e5dc1b6f78d5c4d35\n",
      "  Building wheel for mouseinfo (setup.py): started\n",
      "  Building wheel for mouseinfo (setup.py): finished with status 'done'\n",
      "  Created wheel for mouseinfo: filename=MouseInfo-0.1.3-py3-none-any.whl size=10905 sha256=2b0b22c01b819416b2c735a08ad5833ca6a8191ca6c233185b8feba331a55acb\n",
      "  Stored in directory: c:\\users\\adsom\\appdata\\local\\pip\\cache\\wheels\\d1\\72\\fb\\35f403de66285df8ecca7049bcc61bfb57aba0f76d1f08f7eb\n",
      "  Building wheel for pymsgbox (PEP 517): started\n",
      "  Building wheel for pymsgbox (PEP 517): finished with status 'done'\n",
      "  Created wheel for pymsgbox: filename=PyMsgBox-1.0.9-py3-none-any.whl size=7420 sha256=4778fd51415c3be6f0ae178b43068469aff8d2791391f5a67e6f832582fbbc5e\n",
      "  Stored in directory: c:\\users\\adsom\\appdata\\local\\pip\\cache\\wheels\\91\\28\\0d\\f4eb606d38276836237d6dc2abf094241e6db5682a126e0389\n",
      "  Building wheel for pyperclip (setup.py): started\n",
      "  Building wheel for pyperclip (setup.py): finished with status 'done'\n",
      "  Created wheel for pyperclip: filename=pyperclip-1.8.2-py3-none-any.whl size=11107 sha256=cadef22096fb8c7fef09ee9d543dd4ec97189ede25abbc20dbeb9b0162949dd6\n",
      "  Stored in directory: c:\\users\\adsom\\appdata\\local\\pip\\cache\\wheels\\7f\\1a\\65\\84ff8c386bec21fca6d220ea1f5498a0367883a78dd5ba6122\n",
      "  Building wheel for pyrect (setup.py): started\n",
      "  Building wheel for pyrect (setup.py): finished with status 'done'\n",
      "  Created wheel for pyrect: filename=PyRect-0.1.4-py2.py3-none-any.whl size=9547 sha256=b6cc01a52573da7edbecce45474da83c694f603f81c2ffe3a2f3d4a8d5238941\n",
      "  Stored in directory: c:\\users\\adsom\\appdata\\local\\pip\\cache\\wheels\\d1\\e4\\47\\c62f8291b16b6df7e89ac885881ff71f35ca04c6e384251de9\n",
      "Successfully built pyautogui pygetwindow pyscreeze PyTweening mouseinfo pymsgbox pyperclip pyrect\n",
      "Installing collected packages: pyrect, pyperclip, PyTweening, pyscreeze, pymsgbox, pygetwindow, mouseinfo, pyautogui\n",
      "Successfully installed PyTweening-1.0.4 mouseinfo-0.1.3 pyautogui-0.9.53 pygetwindow-0.0.9 pymsgbox-1.0.9 pyperclip-1.8.2 pyrect-0.1.4 pyscreeze-0.1.28\n",
      "Requirement already satisfied: pyperclip in c:\\users\\adsom\\anaconda3\\lib\\site-packages (1.8.2)\n"
     ]
    }
   ],
   "source": [
    "!pip install pyautogui\n",
    "!pip install pyperclip"
   ]
  },
  {
   "cell_type": "code",
   "execution_count": null,
   "id": "2e6db938",
   "metadata": {},
   "outputs": [],
   "source": []
  },
  {
   "cell_type": "code",
   "execution_count": null,
   "id": "7f78f8eb",
   "metadata": {},
   "outputs": [],
   "source": []
  }
 ],
 "metadata": {
  "kernelspec": {
   "display_name": "Python 3",
   "language": "python",
   "name": "python3"
  },
  "language_info": {
   "codemirror_mode": {
    "name": "ipython",
    "version": 3
   },
   "file_extension": ".py",
   "mimetype": "text/x-python",
   "name": "python",
   "nbconvert_exporter": "python",
   "pygments_lexer": "ipython3",
   "version": "3.8.8"
  }
 },
 "nbformat": 4,
 "nbformat_minor": 5
}
