{
 "cells": [
  {
   "cell_type": "code",
   "execution_count": 18,
   "id": "4c00e718",
   "metadata": {},
   "outputs": [],
   "source": [
    "import pandas as pd\n",
    "import numpy as np\n",
    "import seaborn as sns\n",
    "from sklearn.naive_bayes import GaussianNB"
   ]
  },
  {
   "cell_type": "code",
   "execution_count": 2,
   "id": "eb15b296",
   "metadata": {},
   "outputs": [],
   "source": [
    "baseRiaco_credito = pd.read_csv('risco_credito.csv')"
   ]
  },
  {
   "cell_type": "code",
   "execution_count": 28,
   "id": "58946d94",
   "metadata": {},
   "outputs": [
    {
     "data": {
      "text/html": [
       "<div>\n",
       "<style scoped>\n",
       "    .dataframe tbody tr th:only-of-type {\n",
       "        vertical-align: middle;\n",
       "    }\n",
       "\n",
       "    .dataframe tbody tr th {\n",
       "        vertical-align: top;\n",
       "    }\n",
       "\n",
       "    .dataframe thead th {\n",
       "        text-align: right;\n",
       "    }\n",
       "</style>\n",
       "<table border=\"1\" class=\"dataframe\">\n",
       "  <thead>\n",
       "    <tr style=\"text-align: right;\">\n",
       "      <th></th>\n",
       "      <th>historia</th>\n",
       "      <th>divida</th>\n",
       "      <th>garantias</th>\n",
       "      <th>renda</th>\n",
       "      <th>risco</th>\n",
       "    </tr>\n",
       "  </thead>\n",
       "  <tbody>\n",
       "    <tr>\n",
       "      <th>0</th>\n",
       "      <td>2</td>\n",
       "      <td>0</td>\n",
       "      <td>1</td>\n",
       "      <td>0</td>\n",
       "      <td>alto</td>\n",
       "    </tr>\n",
       "    <tr>\n",
       "      <th>1</th>\n",
       "      <td>1</td>\n",
       "      <td>0</td>\n",
       "      <td>1</td>\n",
       "      <td>1</td>\n",
       "      <td>alto</td>\n",
       "    </tr>\n",
       "    <tr>\n",
       "      <th>2</th>\n",
       "      <td>1</td>\n",
       "      <td>1</td>\n",
       "      <td>1</td>\n",
       "      <td>1</td>\n",
       "      <td>moderado</td>\n",
       "    </tr>\n",
       "    <tr>\n",
       "      <th>3</th>\n",
       "      <td>1</td>\n",
       "      <td>1</td>\n",
       "      <td>1</td>\n",
       "      <td>2</td>\n",
       "      <td>alto</td>\n",
       "    </tr>\n",
       "    <tr>\n",
       "      <th>4</th>\n",
       "      <td>1</td>\n",
       "      <td>1</td>\n",
       "      <td>1</td>\n",
       "      <td>2</td>\n",
       "      <td>baixo</td>\n",
       "    </tr>\n",
       "  </tbody>\n",
       "</table>\n",
       "</div>"
      ],
      "text/plain": [
       "  historia divida garantias renda     risco\n",
       "0        2      0         1     0      alto\n",
       "1        1      0         1     1      alto\n",
       "2        1      1         1     1  moderado\n",
       "3        1      1         1     2      alto\n",
       "4        1      1         1     2     baixo"
      ]
     },
     "execution_count": 28,
     "metadata": {},
     "output_type": "execute_result"
    }
   ],
   "source": [
    "baseRiaco_credito.head()"
   ]
  },
  {
   "cell_type": "code",
   "execution_count": 9,
   "id": "513f4db7",
   "metadata": {},
   "outputs": [],
   "source": [
    "Xrisco_credito = baseRiaco_credito.iloc[:,0:4].values\n",
    "Yrisco_credito = baseRiaco_credito.iloc[:,4].values"
   ]
  },
  {
   "cell_type": "markdown",
   "id": "9215bd5b",
   "metadata": {},
   "source": [
    "###### Tratando dados"
   ]
  },
  {
   "cell_type": "code",
   "execution_count": 7,
   "id": "acd7c696",
   "metadata": {},
   "outputs": [],
   "source": [
    "from sklearn.preprocessing import LabelEncoder"
   ]
  },
  {
   "cell_type": "code",
   "execution_count": 12,
   "id": "db90c098",
   "metadata": {},
   "outputs": [],
   "source": [
    "labelEncoder_historia = LabelEncoder()\n",
    "labelEncoder_divida = LabelEncoder()\n",
    "labelEncoder_garantia = LabelEncoder()\n",
    "labelEncoder_renda = LabelEncoder()"
   ]
  },
  {
   "cell_type": "code",
   "execution_count": 14,
   "id": "bd90a07e",
   "metadata": {},
   "outputs": [],
   "source": [
    "Xrisco_credito[:,0] = labelEncoder_historia.fit_transform(Xrisco_credito[:,0])\n",
    "Xrisco_credito[:,1] = labelEncoder_divida.fit_transform(Xrisco_credito[:,1])\n",
    "Xrisco_credito[:,2] = labelEncoder_garantia.fit_transform(Xrisco_credito[:,2])\n",
    "Xrisco_credito[:,3] = labelEncoder_renda.fit_transform(Xrisco_credito[:,3])"
   ]
  },
  {
   "cell_type": "code",
   "execution_count": 15,
   "id": "570b5fee",
   "metadata": {},
   "outputs": [
    {
     "data": {
      "text/plain": [
       "array([[2, 0, 1, 0],\n",
       "       [1, 0, 1, 1],\n",
       "       [1, 1, 1, 1],\n",
       "       [1, 1, 1, 2],\n",
       "       [1, 1, 1, 2],\n",
       "       [1, 1, 0, 2],\n",
       "       [2, 1, 1, 0],\n",
       "       [2, 1, 0, 2],\n",
       "       [0, 1, 1, 2],\n",
       "       [0, 0, 0, 2],\n",
       "       [0, 0, 1, 0],\n",
       "       [0, 0, 1, 1],\n",
       "       [0, 0, 1, 2],\n",
       "       [2, 0, 1, 1]], dtype=object)"
      ]
     },
     "execution_count": 15,
     "metadata": {},
     "output_type": "execute_result"
    }
   ],
   "source": [
    "Xrisco_credito"
   ]
  },
  {
   "cell_type": "code",
   "execution_count": 17,
   "id": "e5e4e5de",
   "metadata": {},
   "outputs": [],
   "source": [
    "import pickle\n",
    "with open ('riscoCredito.pkl', mode = 'wb') as f:\n",
    "        pickle.dump([Xrisco_credito,Yrisco_credito], f)"
   ]
  },
  {
   "cell_type": "code",
   "execution_count": 21,
   "id": "a6869763",
   "metadata": {},
   "outputs": [
    {
     "data": {
      "text/plain": [
       "GaussianNB()"
      ]
     },
     "execution_count": 21,
     "metadata": {},
     "output_type": "execute_result"
    }
   ],
   "source": [
    "naiveRisco_credito = GaussianNB()\n",
    "naiveRisco_credito.fit(Xrisco_credito, Yrisco_credito)"
   ]
  },
  {
   "cell_type": "markdown",
   "id": "e35c0a91",
   "metadata": {},
   "source": [
    "##### Avaliando um possivel risco"
   ]
  },
  {
   "cell_type": "code",
   "execution_count": 26,
   "id": "3e21eee4",
   "metadata": {},
   "outputs": [],
   "source": [
    "previsao = naiveRisco_credito.predict([[0,0,1,2]])"
   ]
  },
  {
   "cell_type": "code",
   "execution_count": 27,
   "id": "33e1daf5",
   "metadata": {},
   "outputs": [
    {
     "data": {
      "text/plain": [
       "array(['baixo'], dtype='<U8')"
      ]
     },
     "execution_count": 27,
     "metadata": {},
     "output_type": "execute_result"
    }
   ],
   "source": [
    "previsao"
   ]
  }
 ],
 "metadata": {
  "kernelspec": {
   "display_name": "Python 3",
   "language": "python",
   "name": "python3"
  },
  "language_info": {
   "codemirror_mode": {
    "name": "ipython",
    "version": 3
   },
   "file_extension": ".py",
   "mimetype": "text/x-python",
   "name": "python",
   "nbconvert_exporter": "python",
   "pygments_lexer": "ipython3",
   "version": "3.8.8"
  }
 },
 "nbformat": 4,
 "nbformat_minor": 5
}
