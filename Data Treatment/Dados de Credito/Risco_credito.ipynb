{
 "cells": [
  {
   "cell_type": "code",
   "execution_count": 1,
   "id": "4c00e718",
   "metadata": {},
   "outputs": [],
   "source": [
    "import pandas as pd\n",
    "import numpy as np\n",
    "import seaborn as sns\n",
    "from sklearn.naive_bayes import GaussianNB"
   ]
  },
  {
   "cell_type": "code",
   "execution_count": 2,
   "id": "eb15b296",
   "metadata": {},
   "outputs": [],
   "source": [
    "baseRiaco_credito = pd.read_csv('risco_credito.csv')"
   ]
  },
  {
   "cell_type": "code",
   "execution_count": 3,
   "id": "58946d94",
   "metadata": {},
   "outputs": [
    {
     "data": {
      "text/html": [
       "<div>\n",
       "<style scoped>\n",
       "    .dataframe tbody tr th:only-of-type {\n",
       "        vertical-align: middle;\n",
       "    }\n",
       "\n",
       "    .dataframe tbody tr th {\n",
       "        vertical-align: top;\n",
       "    }\n",
       "\n",
       "    .dataframe thead th {\n",
       "        text-align: right;\n",
       "    }\n",
       "</style>\n",
       "<table border=\"1\" class=\"dataframe\">\n",
       "  <thead>\n",
       "    <tr style=\"text-align: right;\">\n",
       "      <th></th>\n",
       "      <th>historia</th>\n",
       "      <th>divida</th>\n",
       "      <th>garantias</th>\n",
       "      <th>renda</th>\n",
       "      <th>risco</th>\n",
       "    </tr>\n",
       "  </thead>\n",
       "  <tbody>\n",
       "    <tr>\n",
       "      <th>0</th>\n",
       "      <td>ruim</td>\n",
       "      <td>alta</td>\n",
       "      <td>nenhuma</td>\n",
       "      <td>0_15</td>\n",
       "      <td>alto</td>\n",
       "    </tr>\n",
       "    <tr>\n",
       "      <th>1</th>\n",
       "      <td>desconhecida</td>\n",
       "      <td>alta</td>\n",
       "      <td>nenhuma</td>\n",
       "      <td>15_35</td>\n",
       "      <td>alto</td>\n",
       "    </tr>\n",
       "    <tr>\n",
       "      <th>2</th>\n",
       "      <td>desconhecida</td>\n",
       "      <td>baixa</td>\n",
       "      <td>nenhuma</td>\n",
       "      <td>15_35</td>\n",
       "      <td>moderado</td>\n",
       "    </tr>\n",
       "    <tr>\n",
       "      <th>3</th>\n",
       "      <td>desconhecida</td>\n",
       "      <td>baixa</td>\n",
       "      <td>nenhuma</td>\n",
       "      <td>acima_35</td>\n",
       "      <td>alto</td>\n",
       "    </tr>\n",
       "    <tr>\n",
       "      <th>4</th>\n",
       "      <td>desconhecida</td>\n",
       "      <td>baixa</td>\n",
       "      <td>nenhuma</td>\n",
       "      <td>acima_35</td>\n",
       "      <td>baixo</td>\n",
       "    </tr>\n",
       "  </tbody>\n",
       "</table>\n",
       "</div>"
      ],
      "text/plain": [
       "       historia divida garantias     renda     risco\n",
       "0          ruim   alta   nenhuma      0_15      alto\n",
       "1  desconhecida   alta   nenhuma     15_35      alto\n",
       "2  desconhecida  baixa   nenhuma     15_35  moderado\n",
       "3  desconhecida  baixa   nenhuma  acima_35      alto\n",
       "4  desconhecida  baixa   nenhuma  acima_35     baixo"
      ]
     },
     "execution_count": 3,
     "metadata": {},
     "output_type": "execute_result"
    }
   ],
   "source": [
    "baseRiaco_credito.head()"
   ]
  },
  {
   "cell_type": "code",
   "execution_count": 4,
   "id": "513f4db7",
   "metadata": {},
   "outputs": [],
   "source": [
    "Xrisco_credito = baseRiaco_credito.iloc[:,0:4].values\n",
    "Yrisco_credito = baseRiaco_credito.iloc[:,4].values"
   ]
  },
  {
   "cell_type": "markdown",
   "id": "9215bd5b",
   "metadata": {},
   "source": [
    "###### Tratando dados"
   ]
  },
  {
   "cell_type": "code",
   "execution_count": 5,
   "id": "acd7c696",
   "metadata": {},
   "outputs": [],
   "source": [
    "from sklearn.preprocessing import LabelEncoder"
   ]
  },
  {
   "cell_type": "code",
   "execution_count": 6,
   "id": "db90c098",
   "metadata": {},
   "outputs": [],
   "source": [
    "labelEncoder_historia = LabelEncoder()\n",
    "labelEncoder_divida = LabelEncoder()\n",
    "labelEncoder_garantia = LabelEncoder()\n",
    "labelEncoder_renda = LabelEncoder()"
   ]
  },
  {
   "cell_type": "code",
   "execution_count": 7,
   "id": "bd90a07e",
   "metadata": {},
   "outputs": [],
   "source": [
    "Xrisco_credito[:,0] = labelEncoder_historia.fit_transform(Xrisco_credito[:,0])\n",
    "Xrisco_credito[:,1] = labelEncoder_divida.fit_transform(Xrisco_credito[:,1])\n",
    "Xrisco_credito[:,2] = labelEncoder_garantia.fit_transform(Xrisco_credito[:,2])\n",
    "Xrisco_credito[:,3] = labelEncoder_renda.fit_transform(Xrisco_credito[:,3])"
   ]
  },
  {
   "cell_type": "code",
   "execution_count": 8,
   "id": "570b5fee",
   "metadata": {},
   "outputs": [
    {
     "data": {
      "text/plain": [
       "array([[2, 0, 1, 0],\n",
       "       [1, 0, 1, 1],\n",
       "       [1, 1, 1, 1],\n",
       "       [1, 1, 1, 2],\n",
       "       [1, 1, 1, 2],\n",
       "       [1, 1, 0, 2],\n",
       "       [2, 1, 1, 0],\n",
       "       [2, 1, 0, 2],\n",
       "       [0, 1, 1, 2],\n",
       "       [0, 0, 0, 2],\n",
       "       [0, 0, 1, 0],\n",
       "       [0, 0, 1, 1],\n",
       "       [0, 0, 1, 2],\n",
       "       [2, 0, 1, 1]], dtype=object)"
      ]
     },
     "execution_count": 8,
     "metadata": {},
     "output_type": "execute_result"
    }
   ],
   "source": [
    "Xrisco_credito"
   ]
  },
  {
   "cell_type": "code",
   "execution_count": 11,
   "id": "a6869763",
   "metadata": {},
   "outputs": [
    {
     "data": {
      "text/plain": [
       "GaussianNB()"
      ]
     },
     "execution_count": 11,
     "metadata": {},
     "output_type": "execute_result"
    }
   ],
   "source": [
    "naiveRisco_credito = GaussianNB()\n",
    "naiveRisco_credito.fit(Xrisco_credito, Yrisco_credito)"
   ]
  },
  {
   "cell_type": "markdown",
   "id": "e35c0a91",
   "metadata": {},
   "source": [
    "##### Avaliando um possivel risco"
   ]
  },
  {
   "cell_type": "code",
   "execution_count": 12,
   "id": "3e21eee4",
   "metadata": {},
   "outputs": [],
   "source": [
    "previsao = naiveRisco_credito.predict([[0,0,1,2]])"
   ]
  },
  {
   "cell_type": "code",
   "execution_count": 13,
   "id": "33e1daf5",
   "metadata": {},
   "outputs": [
    {
     "data": {
      "text/plain": [
       "array(['baixo'], dtype='<U8')"
      ]
     },
     "execution_count": 13,
     "metadata": {},
     "output_type": "execute_result"
    }
   ],
   "source": [
    "previsao"
   ]
  },
  {
   "cell_type": "markdown",
   "id": "7ed7388f",
   "metadata": {},
   "source": [
    "# Treinando Dados"
   ]
  },
  {
   "cell_type": "code",
   "execution_count": null,
   "id": "5d6d6fa0",
   "metadata": {},
   "outputs": [],
   "source": []
  }
 ],
 "metadata": {
  "kernelspec": {
   "display_name": "Python 3",
   "language": "python",
   "name": "python3"
  },
  "language_info": {
   "codemirror_mode": {
    "name": "ipython",
    "version": 3
   },
   "file_extension": ".py",
   "mimetype": "text/x-python",
   "name": "python",
   "nbconvert_exporter": "python",
   "pygments_lexer": "ipython3",
   "version": "3.8.8"
  }
 },
 "nbformat": 4,
 "nbformat_minor": 5
}
